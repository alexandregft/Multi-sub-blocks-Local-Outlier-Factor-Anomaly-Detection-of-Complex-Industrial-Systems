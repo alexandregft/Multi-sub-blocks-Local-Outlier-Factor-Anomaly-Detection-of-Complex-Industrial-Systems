{
 "cells": [
  {
   "cell_type": "code",
   "execution_count": 1,
   "metadata": {
    "collapsed": false,
    "jupyter": {
     "outputs_hidden": false
    }
   },
   "outputs": [
    {
     "name": "stderr",
     "output_type": "stream",
     "text": [
      "WARNING (theano.configdefaults): g++ not available, if using conda: `conda install m2w64-toolchain`\n",
      "WARNING (theano.configdefaults): g++ not detected ! Theano will be unable to execute optimized C-implementations (for both CPU and GPU) and will default to Python implementations. Performance will be severely degraded. To remove this warning, set Theano flags cxx to an empty string.\n"
     ]
    }
   ],
   "source": [
    "import numpy as np\n",
    "from scipy.stats import spearmanr\n",
    "from stsc import self_tuning_spectral_clustering_np\n",
    "from stsc import self_tuning_spectral_clustering_autograd\n",
    "from stsc import self_tuning_spectral_clustering_manopt"
   ]
  },
  {
   "cell_type": "code",
   "execution_count": 2,
   "metadata": {
    "collapsed": false,
    "jupyter": {
     "outputs_hidden": false
    }
   },
   "outputs": [],
   "source": [
    "base = np.random.randn(100,4)\n",
    "x = np.hstack([base*np.random.rand() for _ in range(5)])\n",
    "x = x+np.random.randn(*x.shape)*0.01"
   ]
  },
  {
   "cell_type": "code",
   "execution_count": 3,
   "metadata": {
    "collapsed": false,
    "jupyter": {
     "outputs_hidden": false
    }
   },
   "outputs": [],
   "source": [
    "similarity_matrix = np.abs(spearmanr(x).correlation)"
   ]
  },
  {
   "cell_type": "code",
   "execution_count": 4,
   "metadata": {
    "collapsed": false,
    "jupyter": {
     "outputs_hidden": false
    }
   },
   "outputs": [
    {
     "name": "stdout",
     "output_type": "stream",
     "text": [
      "n_cluster: 2 \t cost: 45.541455\n",
      "n_cluster: 3 \t cost: 45.664934\n",
      "n_cluster: 4 \t cost: 42.316042\n",
      "Final cost: 42.316042\n"
     ]
    },
    {
     "data": {
      "text/plain": [
       "[[0, 4, 8, 9, 12, 16], [3, 7, 11, 13, 15, 19], [1, 2, 6, 10, 14, 17, 18], [5]]"
      ]
     },
     "execution_count": 4,
     "metadata": {},
     "output_type": "execute_result"
    }
   ],
   "source": [
    "self_tuning_spectral_clustering_np(similarity_matrix)"
   ]
  },
  {
   "cell_type": "code",
   "execution_count": 5,
   "metadata": {
    "collapsed": false,
    "jupyter": {
     "outputs_hidden": false
    }
   },
   "outputs": [
    {
     "name": "stdout",
     "output_type": "stream",
     "text": [
      "n_cluster: 2 \t cost: 45.541455\n",
      "n_cluster: 3 \t cost: 45.664934\n",
      "n_cluster: 4 \t cost: 42.316042\n",
      "Final cost: 42.316042\n"
     ]
    },
    {
     "data": {
      "text/plain": [
       "[[0, 4, 8, 9, 12, 16], [3, 7, 11, 13, 15, 19], [1, 2, 6, 10, 14, 17, 18], [5]]"
      ]
     },
     "execution_count": 5,
     "metadata": {},
     "output_type": "execute_result"
    }
   ],
   "source": [
    "self_tuning_spectral_clustering_autograd(similarity_matrix)"
   ]
  },
  {
   "cell_type": "code",
   "execution_count": 6,
   "metadata": {
    "collapsed": false,
    "jupyter": {
     "outputs_hidden": false
    }
   },
   "outputs": [
    {
     "name": "stdout",
     "output_type": "stream",
     "text": [
      "n_cluster: 2 \t cost: 45.539469\n",
      "n_cluster: 3 \t cost: 45.753806\n",
      "n_cluster: 4 \t cost: 43.609406\n",
      "Final cost: 43.609406\n"
     ]
    },
    {
     "data": {
      "text/plain": [
       "[[0, 4, 5, 8, 9, 12, 16], [3, 7, 11, 13, 15, 17, 19], [1, 2, 6, 10, 14, 18]]"
      ]
     },
     "execution_count": 6,
     "metadata": {},
     "output_type": "execute_result"
    }
   ],
   "source": [
    "self_tuning_spectral_clustering_manopt(similarity_matrix)"
   ]
  }
 ],
 "metadata": {
  "kernelspec": {
   "display_name": "Python 3 (ipykernel)",
   "language": "python",
   "name": "python3"
  },
  "language_info": {
   "codemirror_mode": {
    "name": "ipython",
    "version": 3
   },
   "file_extension": ".py",
   "mimetype": "text/x-python",
   "name": "python",
   "nbconvert_exporter": "python",
   "pygments_lexer": "ipython3",
   "version": "3.9.16"
  }
 },
 "nbformat": 4,
 "nbformat_minor": 4
}
